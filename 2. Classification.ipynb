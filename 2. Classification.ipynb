{
  "cells": [
    {
      "metadata": {
        "collapsed": true
      },
      "cell_type": "markdown",
      "source": "2. Classification. \nUse the Adventure Works Cycles customer data you worked with in challenge 1 to create a classification model that predicts whether or not a customer will purchase a bike. The model should predict bike purchasing for new customers for whom no information about average monthly spend or previous bike purchase is available. "
    },
    {
      "metadata": {
        "trusted": true
      },
      "cell_type": "code",
      "source": "import pandas as pd\nimport numpy as np\nimport numpy.random as nr\nimport matplotlib.pyplot as plt\nimport seaborn as sns\nfrom sklearn import preprocessing\nimport sklearn.model_selection as ms\nimport sklearn.metrics as sklm\nfrom sklearn import linear_model\nfrom sklearn.ensemble import RandomForestClassifier\n\n%matplotlib inline",
      "execution_count": 1,
      "outputs": []
    },
    {
      "metadata": {
        "trusted": true
      },
      "cell_type": "code",
      "source": "Customer = pd.read_csv('Customer.csv')\nCustomer.head()",
      "execution_count": 2,
      "outputs": [
        {
          "output_type": "execute_result",
          "execution_count": 2,
          "data": {
            "text/html": "<div>\n<style scoped>\n    .dataframe tbody tr th:only-of-type {\n        vertical-align: middle;\n    }\n\n    .dataframe tbody tr th {\n        vertical-align: top;\n    }\n\n    .dataframe thead th {\n        text-align: right;\n    }\n</style>\n<table border=\"1\" class=\"dataframe\">\n  <thead>\n    <tr style=\"text-align: right;\">\n      <th></th>\n      <th>CustomerID</th>\n      <th>FirstName</th>\n      <th>LastName</th>\n      <th>AddressLine1</th>\n      <th>City</th>\n      <th>StateProvinceName</th>\n      <th>CountryRegionName</th>\n      <th>PostalCode</th>\n      <th>PhoneNumber</th>\n      <th>BirthDate</th>\n      <th>...</th>\n      <th>MaritalStatus</th>\n      <th>HomeOwnerFlag</th>\n      <th>NumberCarsOwned</th>\n      <th>NumberChildrenAtHome</th>\n      <th>TotalChildren</th>\n      <th>YearlyIncome</th>\n      <th>AveMonthSpend</th>\n      <th>BikeBuyer</th>\n      <th>Age</th>\n      <th>AgeGroup</th>\n    </tr>\n  </thead>\n  <tbody>\n    <tr>\n      <th>0</th>\n      <td>11000</td>\n      <td>Jon</td>\n      <td>Yang</td>\n      <td>3761 N. 14th St</td>\n      <td>Rockhampton</td>\n      <td>Queensland</td>\n      <td>Australia</td>\n      <td>4700</td>\n      <td>1 (11) 500 555-0162</td>\n      <td>1966-04-08</td>\n      <td>...</td>\n      <td>M</td>\n      <td>1</td>\n      <td>0</td>\n      <td>0</td>\n      <td>2</td>\n      <td>137947</td>\n      <td>89</td>\n      <td>0</td>\n      <td>31</td>\n      <td>Between 25 and 45</td>\n    </tr>\n    <tr>\n      <th>1</th>\n      <td>11001</td>\n      <td>Eugene</td>\n      <td>Huang</td>\n      <td>2243 W St.</td>\n      <td>Seaford</td>\n      <td>Victoria</td>\n      <td>Australia</td>\n      <td>3198</td>\n      <td>1 (11) 500 555-0110</td>\n      <td>1965-05-14</td>\n      <td>...</td>\n      <td>S</td>\n      <td>0</td>\n      <td>1</td>\n      <td>3</td>\n      <td>3</td>\n      <td>101141</td>\n      <td>117</td>\n      <td>1</td>\n      <td>32</td>\n      <td>Between 25 and 45</td>\n    </tr>\n    <tr>\n      <th>2</th>\n      <td>11002</td>\n      <td>Ruben</td>\n      <td>Torres</td>\n      <td>5844 Linden Land</td>\n      <td>Hobart</td>\n      <td>Tasmania</td>\n      <td>Australia</td>\n      <td>7001</td>\n      <td>1 (11) 500 555-0184</td>\n      <td>1965-08-12</td>\n      <td>...</td>\n      <td>M</td>\n      <td>1</td>\n      <td>1</td>\n      <td>3</td>\n      <td>3</td>\n      <td>91945</td>\n      <td>123</td>\n      <td>0</td>\n      <td>32</td>\n      <td>Between 25 and 45</td>\n    </tr>\n    <tr>\n      <th>3</th>\n      <td>11003</td>\n      <td>Christy</td>\n      <td>Zhu</td>\n      <td>1825 Village Pl.</td>\n      <td>North Ryde</td>\n      <td>New South Wales</td>\n      <td>Australia</td>\n      <td>2113</td>\n      <td>1 (11) 500 555-0162</td>\n      <td>1968-02-15</td>\n      <td>...</td>\n      <td>S</td>\n      <td>0</td>\n      <td>1</td>\n      <td>0</td>\n      <td>0</td>\n      <td>86688</td>\n      <td>50</td>\n      <td>0</td>\n      <td>29</td>\n      <td>Between 25 and 45</td>\n    </tr>\n    <tr>\n      <th>4</th>\n      <td>11004</td>\n      <td>Elizabeth</td>\n      <td>Johnson</td>\n      <td>7553 Harness Circle</td>\n      <td>Wollongong</td>\n      <td>New South Wales</td>\n      <td>Australia</td>\n      <td>2500</td>\n      <td>1 (11) 500 555-0131</td>\n      <td>1968-08-08</td>\n      <td>...</td>\n      <td>S</td>\n      <td>1</td>\n      <td>4</td>\n      <td>5</td>\n      <td>5</td>\n      <td>92771</td>\n      <td>95</td>\n      <td>1</td>\n      <td>29</td>\n      <td>Between 25 and 45</td>\n    </tr>\n  </tbody>\n</table>\n<p>5 rows × 23 columns</p>\n</div>",
            "text/plain": "   CustomerID  FirstName LastName         AddressLine1         City  \\\n0       11000        Jon     Yang      3761 N. 14th St  Rockhampton   \n1       11001     Eugene    Huang           2243 W St.      Seaford   \n2       11002      Ruben   Torres     5844 Linden Land       Hobart   \n3       11003    Christy      Zhu     1825 Village Pl.   North Ryde   \n4       11004  Elizabeth  Johnson  7553 Harness Circle   Wollongong   \n\n  StateProvinceName CountryRegionName PostalCode          PhoneNumber  \\\n0        Queensland         Australia       4700  1 (11) 500 555-0162   \n1          Victoria         Australia       3198  1 (11) 500 555-0110   \n2          Tasmania         Australia       7001  1 (11) 500 555-0184   \n3   New South Wales         Australia       2113  1 (11) 500 555-0162   \n4   New South Wales         Australia       2500  1 (11) 500 555-0131   \n\n    BirthDate        ...         MaritalStatus HomeOwnerFlag NumberCarsOwned  \\\n0  1966-04-08        ...                     M             1               0   \n1  1965-05-14        ...                     S             0               1   \n2  1965-08-12        ...                     M             1               1   \n3  1968-02-15        ...                     S             0               1   \n4  1968-08-08        ...                     S             1               4   \n\n  NumberChildrenAtHome  TotalChildren  YearlyIncome  AveMonthSpend  BikeBuyer  \\\n0                    0              2        137947             89          0   \n1                    3              3        101141            117          1   \n2                    3              3         91945            123          0   \n3                    0              0         86688             50          0   \n4                    5              5         92771             95          1   \n\n   Age           AgeGroup  \n0   31  Between 25 and 45  \n1   32  Between 25 and 45  \n2   32  Between 25 and 45  \n3   29  Between 25 and 45  \n4   29  Between 25 and 45  \n\n[5 rows x 23 columns]"
          },
          "metadata": {}
        }
      ]
    },
    {
      "metadata": {
        "trusted": true
      },
      "cell_type": "code",
      "source": "#Check duplicate rows\nprint(Customer.shape)\nprint(Customer.CustomerID.unique().shape)",
      "execution_count": 3,
      "outputs": [
        {
          "output_type": "stream",
          "text": "(16404, 23)\n(16404,)\n",
          "name": "stdout"
        }
      ]
    },
    {
      "metadata": {},
      "cell_type": "markdown",
      "source": "No duplicate found"
    },
    {
      "metadata": {
        "trusted": true
      },
      "cell_type": "code",
      "source": "#Check missing value\nCustomer.isnull().sum()",
      "execution_count": 4,
      "outputs": [
        {
          "output_type": "execute_result",
          "execution_count": 4,
          "data": {
            "text/plain": "CustomerID              0\nFirstName               0\nLastName                0\nAddressLine1            0\nCity                    0\nStateProvinceName       0\nCountryRegionName       0\nPostalCode              0\nPhoneNumber             0\nBirthDate               0\nEducation               0\nOccupation              0\nGender                  0\nMaritalStatus           0\nHomeOwnerFlag           0\nNumberCarsOwned         0\nNumberChildrenAtHome    0\nTotalChildren           0\nYearlyIncome            0\nAveMonthSpend           0\nBikeBuyer               0\nAge                     0\nAgeGroup                0\ndtype: int64"
          },
          "metadata": {}
        }
      ]
    },
    {
      "metadata": {},
      "cell_type": "markdown",
      "source": "No missing value found"
    },
    {
      "metadata": {
        "trusted": true
      },
      "cell_type": "code",
      "source": "# Check the class imbalance of the dataset\nBikeBuyer_counts = Customer[['AveMonthSpend', 'BikeBuyer']].groupby('BikeBuyer').count()\nprint(BikeBuyer_counts)",
      "execution_count": 5,
      "outputs": [
        {
          "output_type": "stream",
          "text": "           AveMonthSpend\nBikeBuyer               \n0                  10949\n1                   5455\n",
          "name": "stdout"
        }
      ]
    },
    {
      "metadata": {},
      "cell_type": "markdown",
      "source": "Notice that there are one third of customers previously purchased a bike. There is a class inbalance in this dataset, that means using accuracy to measure the dataset can be misleading and need to be used cautiously and alongside other metrics. "
    },
    {
      "metadata": {
        "trusted": true
      },
      "cell_type": "code",
      "source": "Customer.dtypes",
      "execution_count": 6,
      "outputs": [
        {
          "output_type": "execute_result",
          "execution_count": 6,
          "data": {
            "text/plain": "CustomerID               int64\nFirstName               object\nLastName                object\nAddressLine1            object\nCity                    object\nStateProvinceName       object\nCountryRegionName       object\nPostalCode              object\nPhoneNumber             object\nBirthDate               object\nEducation               object\nOccupation              object\nGender                  object\nMaritalStatus           object\nHomeOwnerFlag            int64\nNumberCarsOwned          int64\nNumberChildrenAtHome     int64\nTotalChildren            int64\nYearlyIncome             int64\nAveMonthSpend            int64\nBikeBuyer                int64\nAge                      int64\nAgeGroup                object\ndtype: object"
          },
          "metadata": {}
        }
      ]
    },
    {
      "metadata": {
        "trusted": true
      },
      "cell_type": "code",
      "source": "Customer.nunique()",
      "execution_count": 7,
      "outputs": [
        {
          "output_type": "execute_result",
          "execution_count": 7,
          "data": {
            "text/plain": "CustomerID              16404\nFirstName                 662\nLastName                  363\nAddressLine1            11874\nCity                      267\nStateProvinceName          51\nCountryRegionName           6\nPostalCode                321\nPhoneNumber              7949\nBirthDate                7896\nEducation                   5\nOccupation                  5\nGender                      2\nMaritalStatus               2\nHomeOwnerFlag               2\nNumberCarsOwned             5\nNumberChildrenAtHome        6\nTotalChildren               6\nYearlyIncome            15469\nAveMonthSpend             152\nBikeBuyer                   2\nAge                        70\nAgeGroup                    4\ndtype: int64"
          },
          "metadata": {}
        }
      ]
    },
    {
      "metadata": {},
      "cell_type": "markdown",
      "source": "Based on the analysis of the data type and unique number of each feature above, we can see there are a few categorical features have so many unique values and they are not important for the data analysis such as CustomerID, Names, Address, PostalCode and PhoneNumber etc. So, we are going to leave them out from our analysis and only retain the following following categorical feautures: CountryRegionName, Education, Occupation, Gender, MaritalStatus and AgeGroup. "
    },
    {
      "metadata": {
        "trusted": true
      },
      "cell_type": "code",
      "source": "#Encode categorical values\ncal_df = Customer[['CountryRegionName', 'Education', 'Occupation', 'Gender', 'MaritalStatus', 'AgeGroup']]\ncal_df_encoded = pd.get_dummies(data = cal_df)\ncal_df_encoded.head()",
      "execution_count": 8,
      "outputs": [
        {
          "output_type": "execute_result",
          "execution_count": 8,
          "data": {
            "text/html": "<div>\n<style scoped>\n    .dataframe tbody tr th:only-of-type {\n        vertical-align: middle;\n    }\n\n    .dataframe tbody tr th {\n        vertical-align: top;\n    }\n\n    .dataframe thead th {\n        text-align: right;\n    }\n</style>\n<table border=\"1\" class=\"dataframe\">\n  <thead>\n    <tr style=\"text-align: right;\">\n      <th></th>\n      <th>CountryRegionName_Australia</th>\n      <th>CountryRegionName_Canada</th>\n      <th>CountryRegionName_France</th>\n      <th>CountryRegionName_Germany</th>\n      <th>CountryRegionName_United Kingdom</th>\n      <th>CountryRegionName_United States</th>\n      <th>Education_Bachelors</th>\n      <th>Education_Graduate Degree</th>\n      <th>Education_High School</th>\n      <th>Education_Partial College</th>\n      <th>...</th>\n      <th>Occupation_Professional</th>\n      <th>Occupation_Skilled Manual</th>\n      <th>Gender_F</th>\n      <th>Gender_M</th>\n      <th>MaritalStatus_M</th>\n      <th>MaritalStatus_S</th>\n      <th>AgeGroup_Between 25 and 45</th>\n      <th>AgeGroup_Between 45 and 55</th>\n      <th>AgeGroup_Over 55</th>\n      <th>AgeGroup_Under 25</th>\n    </tr>\n  </thead>\n  <tbody>\n    <tr>\n      <th>0</th>\n      <td>1</td>\n      <td>0</td>\n      <td>0</td>\n      <td>0</td>\n      <td>0</td>\n      <td>0</td>\n      <td>1</td>\n      <td>0</td>\n      <td>0</td>\n      <td>0</td>\n      <td>...</td>\n      <td>1</td>\n      <td>0</td>\n      <td>0</td>\n      <td>1</td>\n      <td>1</td>\n      <td>0</td>\n      <td>1</td>\n      <td>0</td>\n      <td>0</td>\n      <td>0</td>\n    </tr>\n    <tr>\n      <th>1</th>\n      <td>1</td>\n      <td>0</td>\n      <td>0</td>\n      <td>0</td>\n      <td>0</td>\n      <td>0</td>\n      <td>1</td>\n      <td>0</td>\n      <td>0</td>\n      <td>0</td>\n      <td>...</td>\n      <td>1</td>\n      <td>0</td>\n      <td>0</td>\n      <td>1</td>\n      <td>0</td>\n      <td>1</td>\n      <td>1</td>\n      <td>0</td>\n      <td>0</td>\n      <td>0</td>\n    </tr>\n    <tr>\n      <th>2</th>\n      <td>1</td>\n      <td>0</td>\n      <td>0</td>\n      <td>0</td>\n      <td>0</td>\n      <td>0</td>\n      <td>1</td>\n      <td>0</td>\n      <td>0</td>\n      <td>0</td>\n      <td>...</td>\n      <td>1</td>\n      <td>0</td>\n      <td>0</td>\n      <td>1</td>\n      <td>1</td>\n      <td>0</td>\n      <td>1</td>\n      <td>0</td>\n      <td>0</td>\n      <td>0</td>\n    </tr>\n    <tr>\n      <th>3</th>\n      <td>1</td>\n      <td>0</td>\n      <td>0</td>\n      <td>0</td>\n      <td>0</td>\n      <td>0</td>\n      <td>1</td>\n      <td>0</td>\n      <td>0</td>\n      <td>0</td>\n      <td>...</td>\n      <td>1</td>\n      <td>0</td>\n      <td>1</td>\n      <td>0</td>\n      <td>0</td>\n      <td>1</td>\n      <td>1</td>\n      <td>0</td>\n      <td>0</td>\n      <td>0</td>\n    </tr>\n    <tr>\n      <th>4</th>\n      <td>1</td>\n      <td>0</td>\n      <td>0</td>\n      <td>0</td>\n      <td>0</td>\n      <td>0</td>\n      <td>1</td>\n      <td>0</td>\n      <td>0</td>\n      <td>0</td>\n      <td>...</td>\n      <td>1</td>\n      <td>0</td>\n      <td>1</td>\n      <td>0</td>\n      <td>0</td>\n      <td>1</td>\n      <td>1</td>\n      <td>0</td>\n      <td>0</td>\n      <td>0</td>\n    </tr>\n  </tbody>\n</table>\n<p>5 rows × 24 columns</p>\n</div>",
            "text/plain": "   CountryRegionName_Australia  CountryRegionName_Canada  \\\n0                            1                         0   \n1                            1                         0   \n2                            1                         0   \n3                            1                         0   \n4                            1                         0   \n\n   CountryRegionName_France  CountryRegionName_Germany  \\\n0                         0                          0   \n1                         0                          0   \n2                         0                          0   \n3                         0                          0   \n4                         0                          0   \n\n   CountryRegionName_United Kingdom  CountryRegionName_United States  \\\n0                                 0                                0   \n1                                 0                                0   \n2                                 0                                0   \n3                                 0                                0   \n4                                 0                                0   \n\n   Education_Bachelors   Education_Graduate Degree  Education_High School  \\\n0                     1                          0                      0   \n1                     1                          0                      0   \n2                     1                          0                      0   \n3                     1                          0                      0   \n4                     1                          0                      0   \n\n   Education_Partial College        ...          Occupation_Professional  \\\n0                          0        ...                                1   \n1                          0        ...                                1   \n2                          0        ...                                1   \n3                          0        ...                                1   \n4                          0        ...                                1   \n\n   Occupation_Skilled Manual  Gender_F  Gender_M  MaritalStatus_M  \\\n0                          0         0         1                1   \n1                          0         0         1                0   \n2                          0         0         1                1   \n3                          0         1         0                0   \n4                          0         1         0                0   \n\n   MaritalStatus_S  AgeGroup_Between 25 and 45  AgeGroup_Between 45 and 55  \\\n0                0                           1                           0   \n1                1                           1                           0   \n2                0                           1                           0   \n3                1                           1                           0   \n4                1                           1                           0   \n\n   AgeGroup_Over 55  AgeGroup_Under 25  \n0                 0                  0  \n1                 0                  0  \n2                 0                  0  \n3                 0                  0  \n4                 0                  0  \n\n[5 rows x 24 columns]"
          },
          "metadata": {}
        }
      ]
    },
    {
      "metadata": {
        "trusted": true
      },
      "cell_type": "code",
      "source": "cal_df_encoded.shape",
      "execution_count": 9,
      "outputs": [
        {
          "output_type": "execute_result",
          "execution_count": 9,
          "data": {
            "text/plain": "(16404, 24)"
          },
          "metadata": {}
        }
      ]
    },
    {
      "metadata": {
        "trusted": true
      },
      "cell_type": "code",
      "source": "num_df = Customer[['HomeOwnerFlag', 'NumberCarsOwned', 'NumberChildrenAtHome', 'TotalChildren', 'YearlyIncome']]\nencoded_df = pd.concat([cal_df_encoded, num_df], axis=1, join= 'outer')",
      "execution_count": 10,
      "outputs": []
    },
    {
      "metadata": {
        "trusted": true
      },
      "cell_type": "code",
      "source": "encoded_df.shape",
      "execution_count": 11,
      "outputs": [
        {
          "output_type": "execute_result",
          "execution_count": 11,
          "data": {
            "text/plain": "(16404, 29)"
          },
          "metadata": {}
        }
      ]
    },
    {
      "metadata": {},
      "cell_type": "markdown",
      "source": "## Split dataset"
    },
    {
      "metadata": {
        "trusted": true
      },
      "cell_type": "code",
      "source": "from sklearn.model_selection import train_test_split\nnr.seed(9988)\nlabels = np.array(Customer['BikeBuyer'])\nfeatures = np.array(encoded_df)\nX_train, X_test, Y_train, Y_test = train_test_split (encoded_df, labels, test_size=0.3)",
      "execution_count": 12,
      "outputs": []
    },
    {
      "metadata": {
        "trusted": true
      },
      "cell_type": "code",
      "source": "print(X_train.shape, Y_train.shape)\nprint(X_test.shape, Y_test.shape)",
      "execution_count": 13,
      "outputs": [
        {
          "output_type": "stream",
          "text": "(11482, 29) (11482,)\n(4922, 29) (4922,)\n",
          "name": "stdout"
        }
      ]
    },
    {
      "metadata": {},
      "cell_type": "markdown",
      "source": "## Rescale values"
    },
    {
      "metadata": {
        "trusted": true
      },
      "cell_type": "code",
      "source": "from sklearn.preprocessing import StandardScaler\nscaler = StandardScaler().fit(X_train)\nX_train = scaler.transform(X_train)\nX_test= scaler.transform(X_test)",
      "execution_count": 16,
      "outputs": [
        {
          "output_type": "stream",
          "text": "/home/nbuser/anaconda3_501/lib/python3.6/site-packages/sklearn/preprocessing/data.py:645: DataConversionWarning: Data with input dtype uint8, int64 were all converted to float64 by StandardScaler.\n  return self.partial_fit(X, y)\n/home/nbuser/anaconda3_501/lib/python3.6/site-packages/ipykernel/__main__.py:3: DataConversionWarning: Data with input dtype uint8, int64 were all converted to float64 by StandardScaler.\n  app.launch_new_instance()\n/home/nbuser/anaconda3_501/lib/python3.6/site-packages/ipykernel/__main__.py:4: DataConversionWarning: Data with input dtype uint8, int64 were all converted to float64 by StandardScaler.\n",
          "name": "stderr"
        }
      ]
    },
    {
      "metadata": {
        "trusted": true
      },
      "cell_type": "code",
      "source": "X_train[:2,]",
      "execution_count": 17,
      "outputs": [
        {
          "output_type": "execute_result",
          "execution_count": 17,
          "data": {
            "text/plain": "array([[ 2.02114596, -0.30393982, -0.32681107, -0.32746359, -0.33875844,\n        -0.85531507, -0.63237842, -0.46564919, -0.46883089,  1.64434515,\n        -0.30666722,  2.32307068, -0.44669937, -0.38630857, -0.65362212,\n        -0.57446735,  1.01068238, -1.01068238, -1.07679545,  1.07679545,\n        -1.29261506, -0.40165028,  4.10910394, -0.46786319, -1.43933877,\n         0.43811237, -0.65272852, -0.00589171, -0.79290029],\n       [-0.49476882, -0.30393982, -0.32681107, -0.32746359,  2.95195596,\n        -0.85531507, -0.63237842, -0.46564919, -0.46883089,  1.64434515,\n        -0.30666722,  2.32307068, -0.44669937, -0.38630857, -0.65362212,\n        -0.57446735,  1.01068238, -1.01068238, -1.07679545,  1.07679545,\n        -1.29261506, -0.40165028, -0.24336206,  2.13737695,  0.69476347,\n        -0.43567715, -0.65272852, -1.19270998, -0.65094255]])"
          },
          "metadata": {}
        }
      ]
    },
    {
      "metadata": {},
      "cell_type": "markdown",
      "source": "## Build models"
    },
    {
      "metadata": {},
      "cell_type": "markdown",
      "source": "### Logistic regression model "
    },
    {
      "metadata": {
        "trusted": true
      },
      "cell_type": "code",
      "source": "lm = linear_model.LogisticRegression()\nlm.fit(X_train, Y_train)",
      "execution_count": 18,
      "outputs": [
        {
          "output_type": "stream",
          "text": "/home/nbuser/anaconda3_501/lib/python3.6/site-packages/sklearn/linear_model/logistic.py:433: FutureWarning: Default solver will be changed to 'lbfgs' in 0.22. Specify a solver to silence this warning.\n  FutureWarning)\n",
          "name": "stderr"
        },
        {
          "output_type": "execute_result",
          "execution_count": 18,
          "data": {
            "text/plain": "LogisticRegression(C=1.0, class_weight=None, dual=False, fit_intercept=True,\n          intercept_scaling=1, max_iter=100, multi_class='warn',\n          n_jobs=None, penalty='l2', random_state=None, solver='warn',\n          tol=0.0001, verbose=0, warm_start=False)"
          },
          "metadata": {}
        }
      ]
    },
    {
      "metadata": {
        "trusted": true
      },
      "cell_type": "code",
      "source": "print(lm.intercept_)\nprint(lm.coef_)",
      "execution_count": 19,
      "outputs": [
        {
          "output_type": "stream",
          "text": "[-1.03948399]\n[[-0.04429792  0.05551899 -0.01233644 -0.02153491  0.01024311  0.01833874\n   0.11609744  0.04162943 -0.08113958  0.00994109 -0.1484187  -0.02702864\n  -0.06362348 -0.00400714  0.0322922   0.04645942 -0.17171045  0.17171045\n  -0.38582964  0.38582964  0.3212986  -0.15991896 -0.55964409  0.07396459\n   0.03990936  0.02390833  1.15061772 -0.09726548  0.37462689]]\n",
          "name": "stdout"
        }
      ]
    },
    {
      "metadata": {
        "trusted": true
      },
      "cell_type": "code",
      "source": "probabilities = lm.predict_proba(X_test)\nprint(probabilities[:15,:])",
      "execution_count": 20,
      "outputs": [
        {
          "output_type": "stream",
          "text": "[[0.97292554 0.02707446]\n [0.86630116 0.13369884]\n [0.62978232 0.37021768]\n [0.57682046 0.42317954]\n [0.17690558 0.82309442]\n [0.74562928 0.25437072]\n [0.52133664 0.47866336]\n [0.80940571 0.19059429]\n [0.7444835  0.2555165 ]\n [0.98959798 0.01040202]\n [0.38462282 0.61537718]\n [0.78908171 0.21091829]\n [0.32334889 0.67665111]\n [0.84083267 0.15916733]\n [0.9561477  0.0438523 ]]\n",
          "name": "stdout"
        }
      ]
    },
    {
      "metadata": {},
      "cell_type": "markdown",
      "source": "### Score and evaluate the classification model"
    },
    {
      "metadata": {
        "trusted": true
      },
      "cell_type": "code",
      "source": "def score_model(probs, threshold):\n    return np.array([1 if x>threshold else 0 for x in probs[:,1]])\nscores = score_model(probabilities, 0.5)\nprint(np.array(scores[:15]))\nprint(Y_test[:15])",
      "execution_count": 21,
      "outputs": [
        {
          "output_type": "stream",
          "text": "[0 0 0 0 1 0 0 0 0 0 1 0 1 0 0]\n[0 1 0 0 0 0 0 0 1 0 0 0 0 1 0]\n",
          "name": "stdout"
        }
      ]
    },
    {
      "metadata": {
        "trusted": true
      },
      "cell_type": "code",
      "source": "def print_metrics(labels, scores):\n    metrics = sklm.precision_recall_fscore_support(labels, scores)\n    conf = sklm.confusion_matrix(labels, scores)\n    print('                 Confusion matrix')\n    print('                 Score positive    Score negative')\n    print('Actual positive    %6d' % conf[0,0] + '             %5d' % conf[0,1])\n    print('Actual negative    %6d' % conf[1,0] + '             %5d' % conf[1,1])\n    print('')\n    print('Accuracy  %0.2f' % sklm.accuracy_score(labels, scores))\n    print(' ')\n    print('           Positive      Negative')\n    print('Num case   %6d' % metrics[3][0] + '        %6d' % metrics[3][1])\n    print('Precision  %6.2f' % metrics[0][0] + '        %6.2f' % metrics[0][1])\n    print('Recall     %6.2f' % metrics[1][0] + '        %6.2f' % metrics[1][1])\n    print('F1         %6.2f' % metrics[2][0] + '        %6.2f' % metrics[2][1])\n\n\n    \nprint_metrics(Y_test, scores)    ",
      "execution_count": 22,
      "outputs": [
        {
          "output_type": "stream",
          "text": "                 Confusion matrix\n                 Score positive    Score negative\nActual positive      2934               333\nActual negative       664               991\n\nAccuracy  0.80\n \n           Positive      Negative\nNum case     3267          1655\nPrecision    0.82          0.75\nRecall       0.90          0.60\nF1           0.85          0.67\n",
          "name": "stdout"
        }
      ]
    },
    {
      "metadata": {},
      "cell_type": "markdown",
      "source": "Examine the results:\n1. The confusion matrix shows the following characteristics; a) most of trhe positive cases are correctly classified, 2936 v 331, however, many negative cases are scored incorrectly, with only 989 correct v 666 incorrect. <br>\n2. The overall accuracy is 0.80, however it might be misleaeding given it is class imbalance. <br>\n3. The class imbalance is confirmed. Of the 4922 test cases, 3267 are positive and 1655 are negative. <br>\n4. The precision, recall and F1 all show that positive cases are classified reasonably well. \n"
    },
    {
      "metadata": {
        "trusted": true
      },
      "cell_type": "code",
      "source": "def plot_auc(labels, probs):\n    ## Compute the false positive rate, true positive rate\n    ## and threshold along with the AUC\n    fpr, tpr, threshold = sklm.roc_curve(labels, probs[:,1])\n    auc = sklm.auc(fpr, tpr)\n    \n    ## Plot the result\n    plt.title('Receiver Operating Characteristic')\n    plt.plot(fpr, tpr, color = 'orange', label = 'AUC = %0.2f' % auc)\n    plt.legend(loc = 'lower right')\n    plt.plot([0, 1], [0, 1],'r--')\n    plt.xlim([0, 1])\n    plt.ylim([0, 1])\n    plt.ylabel('True Positive Rate')\n    plt.xlabel('False Positive Rate')\n    plt.show()\n    \nplot_auc(Y_test, probabilities)   ",
      "execution_count": 23,
      "outputs": [
        {
          "output_type": "display_data",
          "data": {
            "image/png": "[encoded data removed]",
            "text/plain": "<Figure size 432x288 with 1 Axes>"
          },
          "metadata": {
            "needs_background": "light"
          }
        }
      ]
    },
    {
      "metadata": {},
      "cell_type": "markdown",
      "source": "### Find a better threshold"
    },
    {
      "metadata": {
        "trusted": true
      },
      "cell_type": "code",
      "source": "#def test_threshold(probs, labels, threshold):\n    #scores = score_model(probs, threshold)\n   # print('')\n    #print('For threshold = ' + str(threshold))\n    #print_metrics(labels, scores)\n\n#thresholds = [0.45, 0.40, 0.35, 0.3, 0.25]\n#for t in thresholds:\n    #test_threshold(probabilities, Y_test, t)",
      "execution_count": 24,
      "outputs": [
        {
          "output_type": "stream",
          "text": "\nFor threshold = 0.45\n                 Confusion matrix\n                 Score positive    Score negative\nActual positive      2865               402\nActual negative       614              1041\n\nAccuracy  0.79\n \n           Positive      Negative\nNum case     3267          1655\nPrecision    0.82          0.72\nRecall       0.88          0.63\nF1           0.85          0.67\n\nFor threshold = 0.4\n                 Confusion matrix\n                 Score positive    Score negative\nActual positive      2742               525\nActual negative       540              1115\n\nAccuracy  0.78\n \n           Positive      Negative\nNum case     3267          1655\nPrecision    0.84          0.68\nRecall       0.84          0.67\nF1           0.84          0.68\n\nFor threshold = 0.35\n                 Confusion matrix\n                 Score positive    Score negative\nActual positive      2584               683\nActual negative       465              1190\n\nAccuracy  0.77\n \n           Positive      Negative\nNum case     3267          1655\nPrecision    0.85          0.64\nRecall       0.79          0.72\nF1           0.82          0.67\n\nFor threshold = 0.3\n                 Confusion matrix\n                 Score positive    Score negative\nActual positive      2416               851\nActual negative       390              1265\n\nAccuracy  0.75\n \n           Positive      Negative\nNum case     3267          1655\nPrecision    0.86          0.60\nRecall       0.74          0.76\nF1           0.80          0.67\n\nFor threshold = 0.25\n                 Confusion matrix\n                 Score positive    Score negative\nActual positive      2229              1038\nActual negative       314              1341\n\nAccuracy  0.73\n \n           Positive      Negative\nNum case     3267          1655\nPrecision    0.88          0.56\nRecall       0.68          0.81\nF1           0.77          0.66\n",
          "name": "stdout"
        }
      ]
    },
    {
      "metadata": {},
      "cell_type": "markdown",
      "source": "Given that we are predicting the people who is going to be BikeBuyer, it is these positive cases that are of greatest importance to the company, so we choose the threshold that correctly identify the most of positive cases and have higher value for precision, recall and F1, which is when threshold is 0.5"
    },
    {
      "metadata": {
        "trusted": true
      },
      "cell_type": "code",
      "source": "test = pd.read_csv('AW_test.csv')",
      "execution_count": 25,
      "outputs": []
    },
    {
      "metadata": {
        "trusted": true
      },
      "cell_type": "code",
      "source": "print(test.shape)\ntest.head()",
      "execution_count": 26,
      "outputs": [
        {
          "output_type": "stream",
          "text": "(500, 20)\n",
          "name": "stdout"
        },
        {
          "output_type": "execute_result",
          "execution_count": 26,
          "data": {
            "text/html": "<div>\n<style scoped>\n    .dataframe tbody tr th:only-of-type {\n        vertical-align: middle;\n    }\n\n    .dataframe tbody tr th {\n        vertical-align: top;\n    }\n\n    .dataframe thead th {\n        text-align: right;\n    }\n</style>\n<table border=\"1\" class=\"dataframe\">\n  <thead>\n    <tr style=\"text-align: right;\">\n      <th></th>\n      <th>CustomerID</th>\n      <th>FirstName</th>\n      <th>LastName</th>\n      <th>AddressLine1</th>\n      <th>City</th>\n      <th>StateProvinceName</th>\n      <th>CountryRegionName</th>\n      <th>PostalCode</th>\n      <th>PhoneNumber</th>\n      <th>BirthDate</th>\n      <th>Age</th>\n      <th>Education</th>\n      <th>Occupation</th>\n      <th>Gender</th>\n      <th>MaritalStatus</th>\n      <th>HomeOwnerFlag</th>\n      <th>NumberCarsOwned</th>\n      <th>NumberChildrenAtHome</th>\n      <th>TotalChildren</th>\n      <th>YearlyIncome</th>\n    </tr>\n  </thead>\n  <tbody>\n    <tr>\n      <th>0</th>\n      <td>18988</td>\n      <td>Courtney</td>\n      <td>Baker</td>\n      <td>8727 Buena Vista Ave.</td>\n      <td>Fremont</td>\n      <td>California</td>\n      <td>United States</td>\n      <td>94536</td>\n      <td>133-555-0128</td>\n      <td>1/05/1945</td>\n      <td>45</td>\n      <td>Bachelors</td>\n      <td>Management</td>\n      <td>F</td>\n      <td>S</td>\n      <td>0</td>\n      <td>2</td>\n      <td>0</td>\n      <td>5</td>\n      <td>86931</td>\n    </tr>\n    <tr>\n      <th>1</th>\n      <td>29135</td>\n      <td>Adam</td>\n      <td>Allen</td>\n      <td>3491 Cook Street</td>\n      <td>Haney</td>\n      <td>British Columbia</td>\n      <td>Canada</td>\n      <td>V2W 1W2</td>\n      <td>252-555-0173</td>\n      <td>10/04/1964</td>\n      <td>64</td>\n      <td>Bachelors</td>\n      <td>Skilled Manual</td>\n      <td>M</td>\n      <td>M</td>\n      <td>1</td>\n      <td>2</td>\n      <td>2</td>\n      <td>4</td>\n      <td>100125</td>\n    </tr>\n    <tr>\n      <th>2</th>\n      <td>12156</td>\n      <td>Bonnie</td>\n      <td>Raji</td>\n      <td>359 Pleasant Hill Rd</td>\n      <td>Burbank</td>\n      <td>California</td>\n      <td>United States</td>\n      <td>91502</td>\n      <td>409-555-0193</td>\n      <td>1/12/1934</td>\n      <td>34</td>\n      <td>Graduate Degree</td>\n      <td>Management</td>\n      <td>F</td>\n      <td>M</td>\n      <td>1</td>\n      <td>2</td>\n      <td>0</td>\n      <td>4</td>\n      <td>103985</td>\n    </tr>\n    <tr>\n      <th>3</th>\n      <td>13749</td>\n      <td>Julio</td>\n      <td>Alonso</td>\n      <td>8945 Euclid Ave.</td>\n      <td>Burlingame</td>\n      <td>California</td>\n      <td>United States</td>\n      <td>94010</td>\n      <td>175-555-0196</td>\n      <td>22/09/1958</td>\n      <td>58</td>\n      <td>Graduate Degree</td>\n      <td>Skilled Manual</td>\n      <td>M</td>\n      <td>M</td>\n      <td>1</td>\n      <td>0</td>\n      <td>0</td>\n      <td>4</td>\n      <td>127161</td>\n    </tr>\n    <tr>\n      <th>4</th>\n      <td>27780</td>\n      <td>Christy</td>\n      <td>Andersen</td>\n      <td>42, boulevard Tremblay</td>\n      <td>Dunkerque</td>\n      <td>Nord</td>\n      <td>France</td>\n      <td>59140</td>\n      <td>1 (11) 500 555-0122</td>\n      <td>19/03/1965</td>\n      <td>65</td>\n      <td>High School</td>\n      <td>Manual</td>\n      <td>F</td>\n      <td>M</td>\n      <td>1</td>\n      <td>1</td>\n      <td>2</td>\n      <td>2</td>\n      <td>21876</td>\n    </tr>\n  </tbody>\n</table>\n</div>",
            "text/plain": "   CustomerID FirstName  LastName            AddressLine1        City  \\\n0       18988  Courtney     Baker   8727 Buena Vista Ave.     Fremont   \n1       29135      Adam     Allen        3491 Cook Street       Haney   \n2       12156    Bonnie      Raji    359 Pleasant Hill Rd     Burbank   \n3       13749     Julio    Alonso        8945 Euclid Ave.  Burlingame   \n4       27780   Christy  Andersen  42, boulevard Tremblay   Dunkerque   \n\n  StateProvinceName CountryRegionName PostalCode          PhoneNumber  \\\n0        California     United States      94536         133-555-0128   \n1  British Columbia            Canada    V2W 1W2         252-555-0173   \n2        California     United States      91502         409-555-0193   \n3        California     United States      94010         175-555-0196   \n4              Nord            France      59140  1 (11) 500 555-0122   \n\n    BirthDate  Age        Education      Occupation Gender MaritalStatus  \\\n0   1/05/1945   45       Bachelors       Management      F             S   \n1  10/04/1964   64       Bachelors   Skilled Manual      M             M   \n2   1/12/1934   34  Graduate Degree      Management      F             M   \n3  22/09/1958   58  Graduate Degree  Skilled Manual      M             M   \n4  19/03/1965   65      High School          Manual      F             M   \n\n   HomeOwnerFlag  NumberCarsOwned  NumberChildrenAtHome  TotalChildren  \\\n0              0                2                     0              5   \n1              1                2                     2              4   \n2              1                2                     0              4   \n3              1                0                     0              4   \n4              1                1                     2              2   \n\n   YearlyIncome  \n0         86931  \n1        100125  \n2        103985  \n3        127161  \n4         21876  "
          },
          "metadata": {}
        }
      ]
    },
    {
      "metadata": {
        "trusted": true
      },
      "cell_type": "code",
      "source": "#Convert BirthDate data format\ntest['BirthDate']= pd.to_datetime(test.BirthDate)\n#Insert the date of data collection 1st Jan 1998\nDataCollectionDate= '1998-01-01'\nDataCollectionDate=pd.to_datetime(DataCollectionDate)",
      "execution_count": 27,
      "outputs": []
    },
    {
      "metadata": {
        "trusted": true
      },
      "cell_type": "code",
      "source": "#Convert BirthDate into age at the collection date\nfrom datetime import date\ndef calculateAge(birthday):\n    age = DataCollectionDate.year - birthday.year - ((DataCollectionDate.month, DataCollectionDate.day)<(birthday.month, birthday.day))\n    return age\n\ntest['Age'] = test['BirthDate'].apply(calculateAge)",
      "execution_count": 28,
      "outputs": []
    },
    {
      "metadata": {
        "trusted": true
      },
      "cell_type": "code",
      "source": "#Classify Customers into age groups\ntest['AgeGroup']=''\ntest.loc[(test['Age']<25),'AgeGroup']='Under 25'\ntest.loc[(test['Age']>=25) & (test['Age']<=45), 'AgeGroup']='Between 25 and 45'\ntest.loc[(test['Age']>45) & (test['Age']<=55), 'AgeGroup']='Between 45 and 55'\ntest.loc[(test['Age']>55), 'AgeGroup']='Over 55'",
      "execution_count": 29,
      "outputs": []
    },
    {
      "metadata": {
        "trusted": true
      },
      "cell_type": "code",
      "source": "#Encode categorical values\ntest_cal_df = Customer[['CountryRegionName', 'Education', 'Occupation', 'Gender', 'MaritalStatus', 'AgeGroup']]\ntest_cal_df_encoded = pd.get_dummies(data = test_cal_df)\ntest_cal_df_encoded.head()",
      "execution_count": 30,
      "outputs": [
        {
          "output_type": "execute_result",
          "execution_count": 30,
          "data": {
            "text/html": "<div>\n<style scoped>\n    .dataframe tbody tr th:only-of-type {\n        vertical-align: middle;\n    }\n\n    .dataframe tbody tr th {\n        vertical-align: top;\n    }\n\n    .dataframe thead th {\n        text-align: right;\n    }\n</style>\n<table border=\"1\" class=\"dataframe\">\n  <thead>\n    <tr style=\"text-align: right;\">\n      <th></th>\n      <th>CountryRegionName_Australia</th>\n      <th>CountryRegionName_Canada</th>\n      <th>CountryRegionName_France</th>\n      <th>CountryRegionName_Germany</th>\n      <th>CountryRegionName_United Kingdom</th>\n      <th>CountryRegionName_United States</th>\n      <th>Education_Bachelors</th>\n      <th>Education_Graduate Degree</th>\n      <th>Education_High School</th>\n      <th>Education_Partial College</th>\n      <th>...</th>\n      <th>Occupation_Professional</th>\n      <th>Occupation_Skilled Manual</th>\n      <th>Gender_F</th>\n      <th>Gender_M</th>\n      <th>MaritalStatus_M</th>\n      <th>MaritalStatus_S</th>\n      <th>AgeGroup_Between 25 and 45</th>\n      <th>AgeGroup_Between 45 and 55</th>\n      <th>AgeGroup_Over 55</th>\n      <th>AgeGroup_Under 25</th>\n    </tr>\n  </thead>\n  <tbody>\n    <tr>\n      <th>0</th>\n      <td>0</td>\n      <td>0</td>\n      <td>0</td>\n      <td>0</td>\n      <td>0</td>\n      <td>1</td>\n      <td>1</td>\n      <td>0</td>\n      <td>0</td>\n      <td>0</td>\n      <td>...</td>\n      <td>0</td>\n      <td>0</td>\n      <td>1</td>\n      <td>0</td>\n      <td>0</td>\n      <td>1</td>\n      <td>0</td>\n      <td>1</td>\n      <td>0</td>\n      <td>0</td>\n    </tr>\n    <tr>\n      <th>1</th>\n      <td>0</td>\n      <td>1</td>\n      <td>0</td>\n      <td>0</td>\n      <td>0</td>\n      <td>0</td>\n      <td>1</td>\n      <td>0</td>\n      <td>0</td>\n      <td>0</td>\n      <td>...</td>\n      <td>0</td>\n      <td>1</td>\n      <td>0</td>\n      <td>1</td>\n      <td>1</td>\n      <td>0</td>\n      <td>1</td>\n      <td>0</td>\n      <td>0</td>\n      <td>0</td>\n    </tr>\n    <tr>\n      <th>2</th>\n      <td>0</td>\n      <td>0</td>\n      <td>0</td>\n      <td>0</td>\n      <td>0</td>\n      <td>1</td>\n      <td>0</td>\n      <td>1</td>\n      <td>0</td>\n      <td>0</td>\n      <td>...</td>\n      <td>0</td>\n      <td>0</td>\n      <td>1</td>\n      <td>0</td>\n      <td>1</td>\n      <td>0</td>\n      <td>0</td>\n      <td>0</td>\n      <td>1</td>\n      <td>0</td>\n    </tr>\n    <tr>\n      <th>3</th>\n      <td>0</td>\n      <td>0</td>\n      <td>0</td>\n      <td>0</td>\n      <td>0</td>\n      <td>1</td>\n      <td>0</td>\n      <td>1</td>\n      <td>0</td>\n      <td>0</td>\n      <td>...</td>\n      <td>0</td>\n      <td>1</td>\n      <td>0</td>\n      <td>1</td>\n      <td>1</td>\n      <td>0</td>\n      <td>1</td>\n      <td>0</td>\n      <td>0</td>\n      <td>0</td>\n    </tr>\n    <tr>\n      <th>4</th>\n      <td>0</td>\n      <td>0</td>\n      <td>1</td>\n      <td>0</td>\n      <td>0</td>\n      <td>0</td>\n      <td>0</td>\n      <td>0</td>\n      <td>1</td>\n      <td>0</td>\n      <td>...</td>\n      <td>0</td>\n      <td>0</td>\n      <td>1</td>\n      <td>0</td>\n      <td>1</td>\n      <td>0</td>\n      <td>1</td>\n      <td>0</td>\n      <td>0</td>\n      <td>0</td>\n    </tr>\n  </tbody>\n</table>\n<p>5 rows × 24 columns</p>\n</div>",
            "text/plain": "   CountryRegionName_Australia  CountryRegionName_Canada  \\\n0                            0                         0   \n1                            0                         1   \n2                            0                         0   \n3                            0                         0   \n4                            0                         0   \n\n   CountryRegionName_France  CountryRegionName_Germany  \\\n0                         0                          0   \n1                         0                          0   \n2                         0                          0   \n3                         0                          0   \n4                         1                          0   \n\n   CountryRegionName_United Kingdom  CountryRegionName_United States  \\\n0                                 0                                1   \n1                                 0                                0   \n2                                 0                                1   \n3                                 0                                1   \n4                                 0                                0   \n\n   Education_Bachelors   Education_Graduate Degree  Education_High School  \\\n0                     1                          0                      0   \n1                     1                          0                      0   \n2                     0                          1                      0   \n3                     0                          1                      0   \n4                     0                          0                      1   \n\n   Education_Partial College        ...          Occupation_Professional  \\\n0                          0        ...                                0   \n1                          0        ...                                0   \n2                          0        ...                                0   \n3                          0        ...                                0   \n4                          0        ...                                0   \n\n   Occupation_Skilled Manual  Gender_F  Gender_M  MaritalStatus_M  \\\n0                          0         1         0                0   \n1                          1         0         1                1   \n2                          0         1         0                1   \n3                          1         0         1                1   \n4                          0         1         0                1   \n\n   MaritalStatus_S  AgeGroup_Between 25 and 45  AgeGroup_Between 45 and 55  \\\n0                1                           0                           1   \n1                0                           1                           0   \n2                0                           0                           0   \n3                0                           1                           0   \n4                0                           1                           0   \n\n   AgeGroup_Over 55  AgeGroup_Under 25  \n0                 0                  0  \n1                 0                  0  \n2                 1                  0  \n3                 0                  0  \n4                 0                  0  \n\n[5 rows x 24 columns]"
          },
          "metadata": {}
        }
      ]
    },
    {
      "metadata": {
        "trusted": true
      },
      "cell_type": "code",
      "source": "test_num_df = test[['HomeOwnerFlag', 'NumberCarsOwned', 'NumberChildrenAtHome', 'TotalChildren', 'YearlyIncome']]\ntest_encoded_df = pd.concat([test_cal_df_encoded, test_num_df], axis=1, join= 'outer')",
      "execution_count": 31,
      "outputs": []
    },
    {
      "metadata": {
        "trusted": true
      },
      "cell_type": "code",
      "source": "test_features = scaler.transform(test_encoded_df)",
      "execution_count": 33,
      "outputs": [
        {
          "output_type": "stream",
          "text": "/home/nbuser/anaconda3_501/lib/python3.6/site-packages/ipykernel/__main__.py:1: DataConversionWarning: Data with input dtype uint8, int64 were all converted to float64 by StandardScaler.\n  if __name__ == '__main__':\n",
          "name": "stderr"
        }
      ]
    },
    {
      "metadata": {
        "trusted": true
      },
      "cell_type": "code",
      "source": "test_predictions= lm.predict(test_features)\nprint(test_predictions)",
      "execution_count": 34,
      "outputs": [
        {
          "output_type": "stream",
          "text": "[0 1 0 0 0 0 1 1 1 0 1 0 0 0 0 0 0 0 1 1 0 0 1 0 0 0 0 1 1 0 1 1 0 0 1 1 1\n 0 0 0 0 1 0 0 0 0 0 1 1 0 0 1 0 0 0 0 0 0 0 0 0 0 0 1 0 1 1 1 0 1 1 0 0 0\n 0 1 1 1 0 0 1 0 0 1 0 0 0 1 1 0 0 1 0 0 0 1 0 0 0 0 1 0 0 1 0 0 0 0 0 0 1\n 0 1 0 0 1 0 0 0 1 1 0 1 0 0 0 0 0 1 0 0 0 1 0 0 1 1 0 0 0 0 0 0 0 1 0 0 0\n 0 0 1 0 0 0 0 0 1 0 0 1 0 0 1 0 1 0 1 1 0 0 0 1 0 0 0 0 1 0 0 1 0 0 1 0 0\n 0 1 0 0 1 0 0 0 0 0 0 0 0 0 1 0 0 0 1 1 0 1 1 0 1 0 0 1 0 0 0 0 0 1 1 0 0\n 0 1 0 0 0 1 1 0 1 0 0 0 1 0 1 0 0 0 0 0 0 0 1 0 0 0 1 0 1 0 0 0 1 1 0 0 1\n 0 0 0 1 0 1 1 0 1 1 0 1 0 0 0 0 0 1 0 1 0 0 0 0 0 0 0 0 0 0 0 0 0 0 1 0 1\n 1 0 0 0 0 0 0 1 0 0 1 1 1 1 0 1 1 0 0 0 0 0 1 0 0 0 0 0 1 0 0 1 0 0 1 0 1\n 0 1 1 1 0 1 0 0 0 0 1 0 0 1 0 1 0 0 1 0 1 0 1 1 0 0 0 1 1 0 0 0 0 0 0 0 0\n 1 0 0 1 1 0 0 0 0 1 1 1 0 0 0 0 1 0 0 1 0 0 1 0 0 0 1 0 0 0 0 1 1 1 1 0 1\n 0 0 0 1 0 0 0 1 0 0 1 0 0 0 0 0 0 0 0 0 0 0 0 0 0 0 1 1 0 1 1 0 0 0 1 0 0\n 0 0 0 0 0 0 0 1 0 0 0 0 1 0 0 0 0 0 1 0 1 1 0 0 0 0 0 0 1 0 0 0 0 1 1 1 1\n 0 1 1 0 0 1 0 0 1 1 1 1 0 0 0 1 0 0 0]\n",
          "name": "stdout"
        }
      ]
    },
    {
      "metadata": {
        "trusted": true
      },
      "cell_type": "code",
      "source": "test_predictions = pd.DataFrame(data=test_predictions);\ntest_predictions.reset_index();\ncid = pd.DataFrame(data=test['CustomerID']);\ncid.reset_index();\npredictions_with_cid = pd.merge(cid, test_predictions, left_index=True, right_index=True);",
      "execution_count": 36,
      "outputs": []
    },
    {
      "metadata": {
        "trusted": true
      },
      "cell_type": "code",
      "source": "predictions_with_cid",
      "execution_count": 37,
      "outputs": [
        {
          "output_type": "execute_result",
          "execution_count": 37,
          "data": {
            "text/html": "<div>\n<style scoped>\n    .dataframe tbody tr th:only-of-type {\n        vertical-align: middle;\n    }\n\n    .dataframe tbody tr th {\n        vertical-align: top;\n    }\n\n    .dataframe thead th {\n        text-align: right;\n    }\n</style>\n<table border=\"1\" class=\"dataframe\">\n  <thead>\n    <tr style=\"text-align: right;\">\n      <th></th>\n      <th>CustomerID</th>\n      <th>0</th>\n    </tr>\n  </thead>\n  <tbody>\n    <tr>\n      <th>0</th>\n      <td>18988</td>\n      <td>0</td>\n    </tr>\n    <tr>\n      <th>1</th>\n      <td>29135</td>\n      <td>1</td>\n    </tr>\n    <tr>\n      <th>2</th>\n      <td>12156</td>\n      <td>0</td>\n    </tr>\n    <tr>\n      <th>3</th>\n      <td>13749</td>\n      <td>0</td>\n    </tr>\n    <tr>\n      <th>4</th>\n      <td>27780</td>\n      <td>0</td>\n    </tr>\n    <tr>\n      <th>5</th>\n      <td>16375</td>\n      <td>0</td>\n    </tr>\n    <tr>\n      <th>6</th>\n      <td>16109</td>\n      <td>1</td>\n    </tr>\n    <tr>\n      <th>7</th>\n      <td>15606</td>\n      <td>1</td>\n    </tr>\n    <tr>\n      <th>8</th>\n      <td>20888</td>\n      <td>1</td>\n    </tr>\n    <tr>\n      <th>9</th>\n      <td>20716</td>\n      <td>0</td>\n    </tr>\n    <tr>\n      <th>10</th>\n      <td>21311</td>\n      <td>1</td>\n    </tr>\n    <tr>\n      <th>11</th>\n      <td>21741</td>\n      <td>0</td>\n    </tr>\n    <tr>\n      <th>12</th>\n      <td>20101</td>\n      <td>0</td>\n    </tr>\n    <tr>\n      <th>13</th>\n      <td>28302</td>\n      <td>0</td>\n    </tr>\n    <tr>\n      <th>14</th>\n      <td>14515</td>\n      <td>0</td>\n    </tr>\n    <tr>\n      <th>15</th>\n      <td>11674</td>\n      <td>0</td>\n    </tr>\n    <tr>\n      <th>16</th>\n      <td>11539</td>\n      <td>0</td>\n    </tr>\n    <tr>\n      <th>17</th>\n      <td>14290</td>\n      <td>0</td>\n    </tr>\n    <tr>\n      <th>18</th>\n      <td>20615</td>\n      <td>1</td>\n    </tr>\n    <tr>\n      <th>19</th>\n      <td>14818</td>\n      <td>1</td>\n    </tr>\n    <tr>\n      <th>20</th>\n      <td>26973</td>\n      <td>0</td>\n    </tr>\n    <tr>\n      <th>21</th>\n      <td>17825</td>\n      <td>0</td>\n    </tr>\n    <tr>\n      <th>22</th>\n      <td>15133</td>\n      <td>1</td>\n    </tr>\n    <tr>\n      <th>23</th>\n      <td>22334</td>\n      <td>0</td>\n    </tr>\n    <tr>\n      <th>24</th>\n      <td>26530</td>\n      <td>0</td>\n    </tr>\n    <tr>\n      <th>25</th>\n      <td>15411</td>\n      <td>0</td>\n    </tr>\n    <tr>\n      <th>26</th>\n      <td>24792</td>\n      <td>0</td>\n    </tr>\n    <tr>\n      <th>27</th>\n      <td>18812</td>\n      <td>1</td>\n    </tr>\n    <tr>\n      <th>28</th>\n      <td>27688</td>\n      <td>1</td>\n    </tr>\n    <tr>\n      <th>29</th>\n      <td>14513</td>\n      <td>0</td>\n    </tr>\n    <tr>\n      <th>...</th>\n      <td>...</td>\n      <td>...</td>\n    </tr>\n    <tr>\n      <th>470</th>\n      <td>17237</td>\n      <td>0</td>\n    </tr>\n    <tr>\n      <th>471</th>\n      <td>11678</td>\n      <td>0</td>\n    </tr>\n    <tr>\n      <th>472</th>\n      <td>13583</td>\n      <td>1</td>\n    </tr>\n    <tr>\n      <th>473</th>\n      <td>14907</td>\n      <td>0</td>\n    </tr>\n    <tr>\n      <th>474</th>\n      <td>20857</td>\n      <td>0</td>\n    </tr>\n    <tr>\n      <th>475</th>\n      <td>24285</td>\n      <td>0</td>\n    </tr>\n    <tr>\n      <th>476</th>\n      <td>24154</td>\n      <td>0</td>\n    </tr>\n    <tr>\n      <th>477</th>\n      <td>12299</td>\n      <td>1</td>\n    </tr>\n    <tr>\n      <th>478</th>\n      <td>15690</td>\n      <td>1</td>\n    </tr>\n    <tr>\n      <th>479</th>\n      <td>27720</td>\n      <td>1</td>\n    </tr>\n    <tr>\n      <th>480</th>\n      <td>24408</td>\n      <td>1</td>\n    </tr>\n    <tr>\n      <th>481</th>\n      <td>26764</td>\n      <td>0</td>\n    </tr>\n    <tr>\n      <th>482</th>\n      <td>25829</td>\n      <td>1</td>\n    </tr>\n    <tr>\n      <th>483</th>\n      <td>22616</td>\n      <td>1</td>\n    </tr>\n    <tr>\n      <th>484</th>\n      <td>13725</td>\n      <td>0</td>\n    </tr>\n    <tr>\n      <th>485</th>\n      <td>23990</td>\n      <td>0</td>\n    </tr>\n    <tr>\n      <th>486</th>\n      <td>22830</td>\n      <td>1</td>\n    </tr>\n    <tr>\n      <th>487</th>\n      <td>26815</td>\n      <td>0</td>\n    </tr>\n    <tr>\n      <th>488</th>\n      <td>12095</td>\n      <td>0</td>\n    </tr>\n    <tr>\n      <th>489</th>\n      <td>16821</td>\n      <td>1</td>\n    </tr>\n    <tr>\n      <th>490</th>\n      <td>11597</td>\n      <td>1</td>\n    </tr>\n    <tr>\n      <th>491</th>\n      <td>13960</td>\n      <td>1</td>\n    </tr>\n    <tr>\n      <th>492</th>\n      <td>23613</td>\n      <td>1</td>\n    </tr>\n    <tr>\n      <th>493</th>\n      <td>15694</td>\n      <td>0</td>\n    </tr>\n    <tr>\n      <th>494</th>\n      <td>24816</td>\n      <td>0</td>\n    </tr>\n    <tr>\n      <th>495</th>\n      <td>24211</td>\n      <td>0</td>\n    </tr>\n    <tr>\n      <th>496</th>\n      <td>23627</td>\n      <td>1</td>\n    </tr>\n    <tr>\n      <th>497</th>\n      <td>14500</td>\n      <td>0</td>\n    </tr>\n    <tr>\n      <th>498</th>\n      <td>22223</td>\n      <td>0</td>\n    </tr>\n    <tr>\n      <th>499</th>\n      <td>29068</td>\n      <td>0</td>\n    </tr>\n  </tbody>\n</table>\n<p>500 rows × 2 columns</p>\n</div>",
            "text/plain": "     CustomerID  0\n0         18988  0\n1         29135  1\n2         12156  0\n3         13749  0\n4         27780  0\n5         16375  0\n6         16109  1\n7         15606  1\n8         20888  1\n9         20716  0\n10        21311  1\n11        21741  0\n12        20101  0\n13        28302  0\n14        14515  0\n15        11674  0\n16        11539  0\n17        14290  0\n18        20615  1\n19        14818  1\n20        26973  0\n21        17825  0\n22        15133  1\n23        22334  0\n24        26530  0\n25        15411  0\n26        24792  0\n27        18812  1\n28        27688  1\n29        14513  0\n..          ... ..\n470       17237  0\n471       11678  0\n472       13583  1\n473       14907  0\n474       20857  0\n475       24285  0\n476       24154  0\n477       12299  1\n478       15690  1\n479       27720  1\n480       24408  1\n481       26764  0\n482       25829  1\n483       22616  1\n484       13725  0\n485       23990  0\n486       22830  1\n487       26815  0\n488       12095  0\n489       16821  1\n490       11597  1\n491       13960  1\n492       23613  1\n493       15694  0\n494       24816  0\n495       24211  0\n496       23627  1\n497       14500  0\n498       22223  0\n499       29068  0\n\n[500 rows x 2 columns]"
          },
          "metadata": {}
        }
      ]
    },
    {
      "metadata": {
        "trusted": true
      },
      "cell_type": "code",
      "source": "# Save the result \npredictions_with_cid.to_csv('Classification_prediction.csv')",
      "execution_count": 38,
      "outputs": []
    },
    {
      "metadata": {},
      "cell_type": "markdown",
      "source": "Accuracy 0.792 <br>\nGrade 97%\n"
    },
    {
      "metadata": {
        "trusted": true
      },
      "cell_type": "code",
      "source": "",
      "execution_count": null,
      "outputs": []
    }
  ],
  "metadata": {
    "kernelspec": {
      "name": "python36",
      "display_name": "Python 3.6",
      "language": "python"
    },
    "language_info": {
      "mimetype": "text/x-python",
      "nbconvert_exporter": "python",
      "name": "python",
      "pygments_lexer": "ipython3",
      "version": "3.6.6",
      "file_extension": ".py",
      "codemirror_mode": {
        "version": 3,
        "name": "ipython"
      }
    }
  },
  "nbformat": 4,
  "nbformat_minor": 2
}